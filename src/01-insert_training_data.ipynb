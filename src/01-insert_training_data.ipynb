{
 "cells": [
  {
   "cell_type": "code",
   "execution_count": 12,
   "id": "9b0f4ee5",
   "metadata": {},
   "outputs": [],
   "source": [
    "from datetime import datetime\n",
    "import itertools\n",
    "import time\n",
    "import json\n",
    "import os"
   ]
  },
  {
   "cell_type": "markdown",
   "id": "b198edfa",
   "metadata": {},
   "source": [
    "## Função de Busca e Manipulção dos Arquivos JSON"
   ]
  },
  {
   "cell_type": "code",
   "execution_count": 13,
   "id": "d2f91a7d",
   "metadata": {},
   "outputs": [],
   "source": [
    "def get_all_json_paths(data_path):\n",
    "    \"\"\"\n",
    "\t\tRecebe o path da pasta Data que contem todas as pastas de Json\n",
    "        Retorna uma lista com os paths de todos os arquivos .json\n",
    "        que não tem teste no nome\n",
    "    \"\"\"\n",
    "    json_files = []\n",
    "\n",
    "    with os.scandir(data_path) as days_data:\n",
    "        for day_data in days_data:\n",
    "            json_files = json_files + [day_data.path + '/' + hour_data_json for hour_data_json in os.listdir(day_data) if hour_data_json.endswith('.json') and not hour_data_json.startswith('teste')]\n",
    "\n",
    "    return json_files"
   ]
  },
  {
   "cell_type": "code",
   "execution_count": 14,
   "id": "c1230f3e",
   "metadata": {},
   "outputs": [],
   "source": [
    "def convert_files_to_jsons(all_json_data_paths):\n",
    "    \"\"\"\n",
    "\t\tRecebe os paths dos jsons, abre os arquivos e os converte em listas de objeto JSON\n",
    "        Retorna uma lista com todas as listas de JSONs extraídas de cada arquivo\n",
    "    \"\"\"\n",
    "    jsons_list = []\n",
    "    for json_data_path in all_json_data_paths:\n",
    "        with open(json_data_path) as json_file:\n",
    "            jsons_list.append(json.load(json_file))\n",
    "    return jsons_list"
   ]
  },
  {
   "cell_type": "code",
   "execution_count": 15,
   "id": "ee247c53",
   "metadata": {},
   "outputs": [],
   "source": [
    "def join_jsons_lists(json_lists):\n",
    "    \"\"\"\n",
    "\t\tRecebe uma lista de lista de objetos Json,\n",
    "        Efetua o Join para concatenar as listas em uma lista só\n",
    "        Retorna uma lista com todos os JSON\n",
    "    \"\"\"\n",
    "    return list(itertools.chain.from_iterable(json_lists))"
   ]
  },
  {
   "cell_type": "markdown",
   "id": "a76798db",
   "metadata": {},
   "source": [
    "## Funções de Formatação dos JSONs"
   ]
  },
  {
   "cell_type": "code",
   "execution_count": 16,
   "id": "9782eee8",
   "metadata": {},
   "outputs": [],
   "source": [
    "def format_location(data):\n",
    "    \"\"\" \n",
    "\t\tRecebe o Json e converte os campos latitude e longitude em\n",
    "        objeto geometrico POINT do Postgis\n",
    "    \"\"\"\n",
    "\n",
    "    # Convertendo , para . pois o Postgres trabalha com .\n",
    "    if 'latitude' in data:\n",
    "        data['latitude'] = float(data['latitude'].replace(',', '.'))\n",
    "    if 'longitude' in data:\n",
    "        data['longitude'] = float(data['longitude'].replace(',', '.'))\n",
    "    if 'longitude' in data and 'latitude' in data:\n",
    "        lat = data['latitude']\n",
    "        lon = data['longitude']\n",
    "        data['localizacao_wkt'] = f'POINT({lat} {lon})'\n",
    "\n",
    "def format_veloc(data):\n",
    "\t\"\"\" \n",
    "\t\tRecebe o Json e converte o campo velocidade em float\n",
    "\t\"\"\"\n",
    "\tif 'velocidade' in data:\n",
    "\t\tdata['velocidade'] = float(data['velocidade'])\n",
    "\n",
    "def format_timestamp(data):\n",
    "    \"\"\" \n",
    "\t\tRecebe o Json e converte os campos de data em datetime\n",
    "\t\"\"\"\n",
    "    if 'datahora' in data:\n",
    "        data['datahora'] = datetime.fromtimestamp(int(data['datahora']) / 1000) \n",
    "    if 'datahoraenvio' in data:\n",
    "        data['datahoraenvio'] = datetime.fromtimestamp(int(data['datahoraenvio']) / 1000)  \n",
    "    if 'datahoraservidor' in data:\n",
    "        data['datahoraservidor'] = datetime.fromtimestamp(int(data['datahoraservidor']) / 1000)  \n",
    "\n",
    "def format_jsons(json_list):\n",
    "\t\"\"\" \n",
    "\t\tRecebe lista de jsons e faz as devidas formatações\n",
    "        Retorna a lista com os Jsons formatados\n",
    "\t\"\"\"\n",
    "\tfor single_json in json_list:\n",
    "\t\tformat_location(single_json)\n",
    "\t\tformat_veloc(single_json)\n",
    "\t\tformat_timestamp(single_json)\n",
    "\treturn json_list"
   ]
  },
  {
   "cell_type": "markdown",
   "id": "a1529bd2",
   "metadata": {},
   "source": [
    "## Funções de Geração das Queries de Insert"
   ]
  },
  {
   "cell_type": "code",
   "execution_count": null,
   "id": "32f15e1f",
   "metadata": {},
   "outputs": [],
   "source": [
    "from psycopg2 import connect\n",
    "from psycopg2.extras import Json\n",
    "from datetime import datetime\n",
    "from shapely.geometry import Point\n",
    "from threading import Thread\n",
    "\n",
    "def build_insert_args(data):\n",
    "\t\"\"\"\n",
    "      Monta argumentos que serão appendados na query \n",
    "\t\"\"\"\n",
    "\tordem = data['ordem']\n",
    "\tlinha = data['linha']\n",
    "\tvelocidade = data['velocidade']\n",
    "\tlocalizacao = data['localizacao_wkt']\n",
    "\tdatahora = data['datahora']\n",
    "\tdatahoraenvio = data['datahoraenvio']\n",
    "\tdatahoraservidor = data['datahoraservidor']\n",
    "\tfinal_args=(ordem, linha, velocidade, localizacao, datahora, datahoraenvio, datahoraservidor)\n",
    "\treturn final_args\n",
    "\n",
    "def chunks(lst, n):\n",
    "    \"\"\"Divide os argumentos em batches\"\"\"\n",
    "    for i in range(0, len(lst), n):\n",
    "        yield lst[i:i + n]\n",
    "\n",
    "def insert_in_database(list_args):\n",
    "\t\"\"\" \n",
    "\t\tRecebe uma lista de argumentos de cada json e insere no banco em batches de 2000\n",
    "\t\"\"\"\n",
    "\tconn = connect(dbname='busInfo', user='bus_admin', password='bus_admin', host='localhost', port='5432')\n",
    "\tcursor = conn.cursor()\n",
    "\n",
    "\tfor args in chunks(list_args, 2000):\n",
    "\t\targs_str = ','.join(cursor.mogrify(\"(%s, %s, %s, ST_GeomFromText(%s, 4326), %s, %s, %s)\", x).decode(\"utf-8\") for x in args)\n",
    "\t\tcursor.execute(\"INSERT INTO bus_location (ordem, linha, velocidade, localizacao, datahora, datahoraenvio, datahoraservidor) VALUES \" + args_str)\n",
    "\t\tconn.commit()\n",
    "\n",
    "\tcursor.close()\n",
    "\tconn.close()\n",
    "\n",
    "def threaded_insert(list_args):\n",
    "    middle_index = len(list_args) // 2\n",
    "    part1 = list_args[:middle_index]\n",
    "    part2 = list_args[middle_index:]\n",
    "\n",
    "    t1 = Thread(target=insert_in_database, args=(part1,))\n",
    "    t2 = Thread(target=insert_in_database, args=(part2,))\n",
    "\n",
    "    t1.start()\n",
    "    t2.start()\n",
    "\n",
    "    t1.join()\n",
    "    t2.join() "
   ]
  },
  {
   "cell_type": "code",
   "execution_count": null,
   "id": "219fe426",
   "metadata": {},
   "outputs": [],
   "source": [
    "def build_insert_query(data):\n",
    "\t\"\"\"\n",
    "\t\tRecebe Json e cria a query de insert com os valores dos campos\n",
    "\t\"\"\"\n",
    "\tordem = data['ordem']\n",
    "\tlinha = data['linha']\n",
    "\tvelocidade = data['velocidade']\n",
    "\tlocalizacao = data['localizacao_wkt']\n",
    "\tdatahora = data['datahora']\n",
    "\tdatahoraenvio = data['datahoraenvio']\n",
    "\tdatahoraservidor = data['datahoraservidor']\n",
    "\tinsert_query = f'INSERT INTO bus_location (ordem, linha, velocidade, localizacao, datahora, datahoraenvio, datahoraservidor) VALUES (\\'{ordem}\\', \\'{linha}\\', \\'{velocidade}\\', ST_GeomFromText(\\'{localizacao}\\', 4326), \\'{datahora}\\', \\'{datahoraenvio}\\', \\'{datahoraservidor}\\')'\n",
    "\treturn insert_query\n",
    "\n",
    "def generate_queries_list(json_formatted_list):\n",
    "\t\"\"\" \n",
    "\t\tRecebe lista de Jsons já formatados\n",
    "\t\tRetorna a lista de argumentos do insert de cada json\n",
    "\t\"\"\"\n",
    "\tinsert_queries = []\n",
    "\tfor single_json in json_formatted_list:\n",
    "\t\t#insert_queries.append(build_insert_query(single_json))\n",
    "\t\tinsert_queries.append(build_insert_args(single_json))\n",
    "\treturn insert_queries"
   ]
  },
  {
   "cell_type": "markdown",
   "id": "8f10f824",
   "metadata": {},
   "source": [
    "## Funções de Criação e Exclusão do Arquivo Final de Queries"
   ]
  },
  {
   "cell_type": "code",
   "execution_count": 19,
   "id": "a66a74ee",
   "metadata": {},
   "outputs": [],
   "source": [
    "import os\n",
    "def clean_insert_file(file_path):\n",
    "\t\"\"\" \n",
    "\t\tRecebe o caminho do arquivo .sql de inserts dos dados\n",
    "\t\tApaga o arquivo caso exista\n",
    "\t\"\"\"\n",
    "\tif os.path.exists(file_path):\n",
    "\t\tos.remove(file_path)\n",
    "\t\tprint(f\"File '{file_path}' deleted successfully.\")\n",
    "\telse:\n",
    "\t\tprint(f\"File '{file_path}' does not exist.\")\n",
    "\n",
    "def generate_insert_file(insert_queries, insert_file_path):\n",
    "\t\"\"\" \n",
    "\t\tRecebe a lista de queries de insert e o caminho com o nome desejado do arquivo\n",
    "\t\tInsere as queries criadas no arquivo .sql\n",
    "\t\"\"\"\n",
    "\twith open(insert_file_path, \"a\") as f:\n",
    "\t\tfor insert_query in insert_queries:\n",
    "  \t\t\tf.write(insert_query + ';\\n')"
   ]
  },
  {
   "cell_type": "markdown",
   "id": "59ac1f65",
   "metadata": {},
   "source": [
    "## Main"
   ]
  },
  {
   "cell_type": "code",
   "execution_count": 20,
   "id": "1fefeb93",
   "metadata": {},
   "outputs": [],
   "source": [
    "def show_elapsed_time(start_time, method_name):\n",
    "    \"\"\" \n",
    "\t\tRecebe o tempo de inicio de execucao e o nome do método\n",
    "        Imprime o nome do método e seu tempo total de execução em segundos\n",
    "    \"\"\"\n",
    "    end_time = time.time()\n",
    "    elapsed_time = end_time - start_time \n",
    "    print(method_name,\"time:\", str(elapsed_time), \"secs\")"
   ]
  },
  {
   "cell_type": "code",
   "execution_count": null,
   "id": "dd380f79",
   "metadata": {},
   "outputs": [],
   "source": [
    "def main():\n",
    "\t\"\"\" \n",
    "\t\tExecuta todo o passo de busca, formatação e criação dos arquivos de insert.\n",
    "\t\tMostra o tempo de execução de cada etapa.\n",
    "\t\tOs arquivos gerado são encontrados na pasta de scripts.\n",
    "\t\"\"\"\n",
    "\t\n",
    "\tdata_path = '../data/'\n",
    "\tinsert_file_path = './scripts/04-insert_bus_data.sql'\n",
    "\tclean_insert_file(insert_file_path)\n",
    "\t\n",
    "\tstart_time = time.time() \n",
    "\tall_json_data_paths = get_all_json_paths(data_path) \n",
    "\tshow_elapsed_time(start_time, \"get_all_json_paths\")\n",
    "\t\n",
    "\n",
    "\tstart_time = time.time()\n",
    "\tall_json_data = convert_files_to_jsons(all_json_data_paths)\n",
    "\tshow_elapsed_time(start_time, \"convert_files_to_jsons\")\n",
    "\n",
    "\tstart_time = time.time()\n",
    "\tjson_data = join_jsons_lists(all_json_data)\n",
    "\tshow_elapsed_time(start_time, \"join_jsons_lists\")\n",
    "\n",
    "\tstart_time = time.time()\n",
    "\tjson_data_formatted = format_jsons(json_data)\n",
    "\tshow_elapsed_time(start_time, \"format_jsons\")\n",
    "\n",
    "\tstart_time = time.time()\n",
    "\tinsert_queries = generate_queries_list(json_data_formatted)\n",
    "\tshow_elapsed_time(start_time, \"generate_queries_list\")\n",
    "      \n",
    "\tstart_time = time.time()\n",
    "\t#generate_insert_file(insert_queries, insert_file_path)\n",
    "\t#show_elapsed_time(start_time, \"generate_insert_file\")\n",
    "\tprint(\"total args\", len(insert_queries))\n",
    "\tthreaded_insert(insert_queries)\n",
    "\tshow_elapsed_time(start_time, \"insert_in_database\")"
   ]
  },
  {
   "cell_type": "code",
   "execution_count": 22,
   "id": "1b4f4d3e",
   "metadata": {},
   "outputs": [
    {
     "name": "stdout",
     "output_type": "stream",
     "text": [
      "File './scripts/04-insert_bus_data.sql' does not exist.\n",
      "get_all_json_paths time: 0.0043065547943115234 secs\n",
      "convert_files_to_jsons time: 84.0915629863739 secs\n",
      "join_jsons_lists time: 9.808472156524658 secs\n",
      "format_jsons time: 130.22779512405396 secs\n",
      "generate_queries_list time: 122.01142859458923 secs\n",
      "total args 16552806\n",
      "insert_in_database time: 409.359011888504 secs\n"
     ]
    }
   ],
   "source": [
    "main()"
   ]
  }
 ],
 "metadata": {
  "kernelspec": {
   "display_name": ".venv",
   "language": "python",
   "name": "python3"
  },
  "language_info": {
   "codemirror_mode": {
    "name": "ipython",
    "version": 3
   },
   "file_extension": ".py",
   "mimetype": "text/x-python",
   "name": "python",
   "nbconvert_exporter": "python",
   "pygments_lexer": "ipython3",
   "version": "3.13.3"
  }
 },
 "nbformat": 4,
 "nbformat_minor": 5
}
